{
 "cells": [
  {
   "cell_type": "markdown",
   "id": "baa6ee2e",
   "metadata": {},
   "source": [
    "# Recherche des zéros d'une fonction par la méthode de la dichotomie"
   ]
  },
  {
   "cell_type": "markdown",
   "id": "04a4faa1",
   "metadata": {},
   "source": [
    "On dispose d'une fonction $f : x \\mapsto f(x)$, définie sur un intervalle $[a,b]$, et on cherche un zéro de la fonction, soit un point $x_0$ tel que $f(x_0) = 0$.\n",
    "\n",
    "La méthode de la dichotomie (aussi appellée méthode de la bissection) est possible si la fonction est monotone sur l'intervalle $[a,b]$."
   ]
  },
  {
   "cell_type": "markdown",
   "id": "6ebbfed1",
   "metadata": {},
   "source": [
    "## Principe"
   ]
  },
  {
   "cell_type": "markdown",
   "id": "9e43a476",
   "metadata": {},
   "source": [
    "Si $f(a)$ et $f(b)$ ne sont pas de même signe, on sait que la fonction s'annule sur cet intervalle et donc $x_0 \\in [a,b]$.\n",
    "\n",
    "On définit alors le point milieu : $ m_1 = \\frac{a+b}{2}$, et on cherche si le zéro est dans l'intervalle $[a,m_1]$ ou dans l'intervalle $[m_1,b]$.\n",
    "\n",
    "Si $f(m)$ est du même signe que $f(a)$, on a $x_0 \\in [m_1,b]$, dans le cas contraire on a $x_0 \\in [a,m_1]$.\n",
    "\n",
    "On a donc réduit notre intervalle de recherche de moitié. En réitérant la méthode autant de fois que nécéssaire on peut donc déterminer un encadrement très fin du zéro de la fonction."
   ]
  },
  {
   "cell_type": "markdown",
   "id": "54918b44",
   "metadata": {},
   "source": [
    "##### Chargement des modules utiles"
   ]
  },
  {
   "cell_type": "code",
   "execution_count": 1,
   "id": "ca0d4f6e",
   "metadata": {},
   "outputs": [],
   "source": [
    "import numpy as np\n",
    "import matplotlib.pyplot as plt"
   ]
  },
  {
   "cell_type": "markdown",
   "id": "f73dd2ea",
   "metadata": {},
   "source": [
    "## Exemple avec la fonction ln(x)"
   ]
  },
  {
   "cell_type": "markdown",
   "id": "92737834",
   "metadata": {},
   "source": [
    "Considérons la fonction $f : x \\mapsto \\ln(x)$ définie sur l'intervalle $[0,5; 2]$."
   ]
  },
  {
   "cell_type": "code",
   "execution_count": 2,
   "id": "55f12ab6",
   "metadata": {},
   "outputs": [],
   "source": [
    "a1 = 0.5\n",
    "b1 = 2.\n",
    "f1 = lambda x : np.log(x)"
   ]
  },
  {
   "cell_type": "markdown",
   "id": "452aa6e6",
   "metadata": {},
   "source": [
    "Traçons la fonction sur l'intervalle considéré :"
   ]
  },
  {
   "cell_type": "code",
   "execution_count": 3,
   "id": "e1101862",
   "metadata": {},
   "outputs": [
    {
     "data": {
      "image/png": "[encoded data removed]",
      "text/plain": [
       "<Figure size 432x288 with 1 Axes>"
      ]
     },
     "metadata": {
      "needs_background": "light"
     },
     "output_type": "display_data"
    }
   ],
   "source": [
    "x = np.linspace(a1,b1,num=1000)\n",
    "plt.plot(x,f1(x))\n",
    "plt.axhline(y=0,color='black')\n",
    "plt.xlim(0.5,2)\n",
    "plt.xlabel('x')\n",
    "plt.ylabel('y')\n",
    "plt.grid()\n",
    "plt.show()"
   ]
  },
  {
   "cell_type": "markdown",
   "id": "18d956d9",
   "metadata": {},
   "source": [
    "La fonction est monotone sur l'intervalle $[0,5,2,0]$. On définit le point milieu : $m_1 = 1,25$.\n",
    "\n",
    "On a $f(1,25) > 0$, donc le zéro est dans l'intervalle $[0,5;1,25]$."
   ]
  },
  {
   "cell_type": "code",
   "execution_count": 4,
   "id": "65b8a1ac",
   "metadata": {},
   "outputs": [
    {
     "data": {
      "image/png": "[encoded data removed]",
      "text/plain": [
       "<Figure size 432x288 with 1 Axes>"
      ]
     },
     "metadata": {
      "needs_background": "light"
     },
     "output_type": "display_data"
    }
   ],
   "source": [
    "x = np.linspace(a1,b1,num=1000)\n",
    "plt.plot(x,f1(x))\n",
    "plt.xlim(0.5,1.25)\n",
    "plt.axhline(y=0,color='black')\n",
    "plt.xlabel('x')\n",
    "plt.ylabel('y')\n",
    "plt.grid()\n",
    "plt.show()"
   ]
  },
  {
   "cell_type": "markdown",
   "id": "e7e5abb8",
   "metadata": {},
   "source": [
    "Prenons le nouveau point milieu, $m_2 = 0,875$.\n",
    "\n",
    "On a $f(0.875) < 0$, donc le zéro est dans l'intervalle $[0,875 ; 1,25]$."
   ]
  },
  {
   "cell_type": "markdown",
   "id": "dc7175e4",
   "metadata": {},
   "source": [
    "Pour répéter ces étapes on utilise la boucle suivante :"
   ]
  },
  {
   "cell_type": "code",
   "execution_count": 5,
   "id": "0fc2ea53",
   "metadata": {},
   "outputs": [
    {
     "name": "stdout",
     "output_type": "stream",
     "text": [
      "inf :  0.99951171875\n",
      "sup :  1.0009765625\n"
     ]
    }
   ],
   "source": [
    "N_etapes = 10\n",
    "limite_superieure = b1\n",
    "limite_inferieure = a1\n",
    "\n",
    "for i in range(N_etapes):\n",
    "    m = (limite_superieure + limite_inferieure) / 2 # calcul du point milieu\n",
    "    y = f1(m) # calcul de f(m)\n",
    "    if y>0:\n",
    "        limite_superieure = m\n",
    "    else:\n",
    "        limite_inferieure = m\n",
    "\n",
    "\n",
    "print(\"inf : \",limite_inferieure)\n",
    "print(\"sup : \",limite_superieure)"
   ]
  },
  {
   "cell_type": "markdown",
   "id": "6a3b2e96",
   "metadata": {},
   "source": [
    "La chose chose qui nous manque est un critère de sortie. On peut par exemple décider que lorsque la largeur de l'intervalle est plus petite qu'une valeur $\\epsilon$ la boucle est interrompue."
   ]
  },
  {
   "cell_type": "code",
   "execution_count": 6,
   "id": "a38efaaa",
   "metadata": {},
   "outputs": [
    {
     "name": "stdout",
     "output_type": "stream",
     "text": [
      "nombre d'etapes :  48\n",
      "inf :  0.9999999999999982\n",
      "sup :  1.0000000000000036\n"
     ]
    }
   ],
   "source": [
    "limite_superieure = b1\n",
    "limite_inferieure = a1\n",
    "nombre_etapes = 0\n",
    "\n",
    "while ( (limite_superieure - limite_inferieure) > 1.0e-14 ):\n",
    "    nombre_etapes = nombre_etapes + 1\n",
    "    m = (limite_superieure + limite_inferieure) / 2 # calcul du point milieu\n",
    "    y = f1(m) # calcul de f(m)\n",
    "    if y>0:\n",
    "        limite_superieure = m\n",
    "    else:\n",
    "        limite_inferieure = m\n",
    "\n",
    "print(\"nombre d'etapes : \", nombre_etapes)\n",
    "print(\"inf : \",limite_inferieure)\n",
    "print(\"sup : \",limite_superieure)"
   ]
  },
  {
   "cell_type": "markdown",
   "id": "cd837132",
   "metadata": {},
   "source": [
    "## Utilisation de la fonction bisect du module scipy.optimize"
   ]
  },
  {
   "cell_type": "code",
   "execution_count": 7,
   "id": "6aabfe31",
   "metadata": {},
   "outputs": [
    {
     "name": "stdout",
     "output_type": "stream",
     "text": [
      "Help on function bisect in module scipy.optimize._zeros_py:\n",
      "\n",
      "bisect(f, a, b, args=(), xtol=2e-12, rtol=8.881784197001252e-16, maxiter=100, full_output=False, disp=True)\n",
      "    Find root of a function within an interval using bisection.\n",
      "    \n",
      "    Basic bisection routine to find a zero of the function `f` between the\n",
      "    arguments `a` and `b`. `f(a)` and `f(b)` cannot have the same signs.\n",
      "    Slow but sure.\n",
      "    \n",
      "    Parameters\n",
      "    ----------\n",
      "    f : function\n",
      "        Python function returning a number.  `f` must be continuous, and\n",
      "        f(a) and f(b) must have opposite signs.\n",
      "    a : scalar\n",
      "        One end of the bracketing interval [a,b].\n",
      "    b : scalar\n",
      "        The other end of the bracketing interval [a,b].\n",
      "    xtol : number, optional\n",
      "        The computed root ``x0`` will satisfy ``np.allclose(x, x0,\n",
      "        atol=xtol, rtol=rtol)``, where ``x`` is the exact root. The\n",
      "        parameter must be nonnegative.\n",
      "    rtol : number, optional\n",
      "        The computed root ``x0`` will satisfy ``np.allclose(x, x0,\n",
      "        atol=xtol, rtol=rtol)``, where ``x`` is the exact root. The\n",
      "        parameter cannot be smaller than its default value of\n",
      "        ``4*np.finfo(float).eps``.\n",
      "    maxiter : int, optional\n",
      "        If convergence is not achieved in `maxiter` iterations, an error is\n",
      "        raised. Must be >= 0.\n",
      "    args : tuple, optional\n",
      "        Containing extra arguments for the function `f`.\n",
      "        `f` is called by ``apply(f, (x)+args)``.\n",
      "    full_output : bool, optional\n",
      "        If `full_output` is False, the root is returned. If `full_output` is\n",
      "        True, the return value is ``(x, r)``, where x is the root, and r is\n",
      "        a `RootResults` object.\n",
      "    disp : bool, optional\n",
      "        If True, raise RuntimeError if the algorithm didn't converge.\n",
      "        Otherwise, the convergence status is recorded in a `RootResults`\n",
      "        return object.\n",
      "    \n",
      "    Returns\n",
      "    -------\n",
      "    x0 : float\n",
      "        Zero of `f` between `a` and `b`.\n",
      "    r : `RootResults` (present if ``full_output = True``)\n",
      "        Object containing information about the convergence. In particular,\n",
      "        ``r.converged`` is True if the routine converged.\n",
      "    \n",
      "    Examples\n",
      "    --------\n",
      "    \n",
      "    >>> def f(x):\n",
      "    ...     return (x**2 - 1)\n",
      "    \n",
      "    >>> from scipy import optimize\n",
      "    \n",
      "    >>> root = optimize.bisect(f, 0, 2)\n",
      "    >>> root\n",
      "    1.0\n",
      "    \n",
      "    >>> root = optimize.bisect(f, -2, 0)\n",
      "    >>> root\n",
      "    -1.0\n",
      "    \n",
      "    See Also\n",
      "    --------\n",
      "    brentq, brenth, bisect, newton\n",
      "    fixed_point : scalar fixed-point finder\n",
      "    fsolve : n-dimensional root-finding\n",
      "\n"
     ]
    }
   ],
   "source": [
    "from scipy.optimize import bisect\n",
    "help(bisect)"
   ]
  },
  {
   "cell_type": "markdown",
   "id": "e0a492c8",
   "metadata": {},
   "source": [
    "Exemple avec la fonction $f:x\\mapsto \\cos(x)$ sur l'intervalle $[0,\\pi]$"
   ]
  },
  {
   "cell_type": "code",
   "execution_count": 8,
   "id": "a9c444af",
   "metadata": {},
   "outputs": [],
   "source": [
    "f2 = lambda x: np.cos(x) \n",
    "a2 = 0.0\n",
    "b2 = np.pi"
   ]
  },
  {
   "cell_type": "code",
   "execution_count": 9,
   "id": "b44e13fa",
   "metadata": {},
   "outputs": [
    {
     "data": {
      "image/png": "[encoded data removed]",
      "text/plain": [
       "<Figure size 432x288 with 1 Axes>"
      ]
     },
     "metadata": {
      "needs_background": "light"
     },
     "output_type": "display_data"
    }
   ],
   "source": [
    "x = np.arange(a2,b2,step=0.01)\n",
    "plt.plot(x,f2(x))\n",
    "plt.xlim(a2,b2)\n",
    "plt.axhline(y=0,color='black')\n",
    "plt.xlabel('x')\n",
    "plt.ylabel('y')\n",
    "plt.grid()\n",
    "plt.show()"
   ]
  },
  {
   "cell_type": "code",
   "execution_count": 10,
   "id": "2aa8f2eb",
   "metadata": {},
   "outputs": [
    {
     "name": "stdout",
     "output_type": "stream",
     "text": [
      "zero de la fonction cosinus :  1.570796326794898\n",
      "valeur de pi/2 :  1.5707963267948966\n"
     ]
    }
   ],
   "source": [
    "x0 = bisect(f2,a2,b2, xtol=1.e-15)\n",
    "print(\"zero de la fonction cosinus : \", x0)\n",
    "print(\"valeur de pi/2 : \", np.pi/2)"
   ]
  },
  {
   "cell_type": "markdown",
   "id": "144ddcbd",
   "metadata": {},
   "source": [
    "## Avec la fonction du TD"
   ]
  },
  {
   "cell_type": "markdown",
   "id": "5b17829c",
   "metadata": {},
   "source": [
    "$$f: x \\mapsto \\frac{x}{(0.01-x)(0.04-4x)^4 10^4} - 1$$\n",
    "définie sur l'intervale $[0,0 ; 0.01]$"
   ]
  },
  {
   "cell_type": "code",
   "execution_count": 11,
   "id": "f2e57756",
   "metadata": {},
   "outputs": [],
   "source": [
    "f3 = lambda x: x/(0.01-x)/(0.04-4*x)**4 / 1.0e4 - 1.0\n",
    "a3 = 0.0\n",
    "b3 = 0.009"
   ]
  },
  {
   "cell_type": "code",
   "execution_count": 12,
   "id": "6ef6adb0",
   "metadata": {},
   "outputs": [
    {
     "data": {
      "image/png": "[encoded data removed]",
      "text/plain": [
       "<Figure size 432x288 with 1 Axes>"
      ]
     },
     "metadata": {
      "needs_background": "light"
     },
     "output_type": "display_data"
    }
   ],
   "source": [
    "x = np.linspace(a3,b3,num=1000)\n",
    "plt.plot(x,f3(x))\n",
    "plt.xlim(a3,b3)\n",
    "plt.axhline(y=0,color='black')\n",
    "plt.xlabel('x')\n",
    "plt.ylabel('y')\n",
    "plt.grid()\n",
    "plt.show()"
   ]
  },
  {
   "cell_type": "code",
   "execution_count": 13,
   "id": "8312a2bb",
   "metadata": {},
   "outputs": [
    {
     "name": "stdout",
     "output_type": "stream",
     "text": [
      "zero de la fonction :  0.00022810458575435173\n"
     ]
    }
   ],
   "source": [
    "x0 = bisect(f3,a3,b3, xtol=1.e-15)\n",
    "print(\"zero de la fonction : \", x0)"
   ]
  }
 ],
 "metadata": {
  "kernelspec": {
   "display_name": "Python 3 (ipykernel)",
   "language": "python",
   "name": "python3"
  },
  "language_info": {
   "codemirror_mode": {
    "name": "ipython",
    "version": 3
   },
   "file_extension": ".py",
   "mimetype": "text/x-python",
   "name": "python",
   "nbconvert_exporter": "python",
   "pygments_lexer": "ipython3",
   "version": "3.10.4"
  }
 },
 "nbformat": 4,
 "nbformat_minor": 5
}
